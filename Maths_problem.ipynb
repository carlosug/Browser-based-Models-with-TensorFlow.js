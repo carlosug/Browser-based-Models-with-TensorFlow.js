{
  "nbformat": 4,
  "nbformat_minor": 0,
  "metadata": {
    "colab": {
      "name": "Maths problem.ipynb",
      "provenance": [],
      "authorship_tag": "ABX9TyNfCDEwliUi9XZj/6HCWUVr",
      "include_colab_link": true
    },
    "kernelspec": {
      "name": "python3",
      "display_name": "Python 3"
    }
  },
  "cells": [
    {
      "cell_type": "markdown",
      "metadata": {
        "id": "view-in-github",
        "colab_type": "text"
      },
      "source": [
        "<a href=\"https://colab.research.google.com/github/carlosug/TensorflowinBrowser/blob/master/Maths_problem.ipynb\" target=\"_parent\"><img src=\"https://colab.research.google.com/assets/colab-badge.svg\" alt=\"Open In Colab\"/></a>"
      ]
    },
    {
      "cell_type": "code",
      "metadata": {
        "id": "jKn7avC2VQuv",
        "colab_type": "code",
        "colab": {}
      },
      "source": [
        ""
      ],
      "execution_count": 0,
      "outputs": []
    },
    {
      "cell_type": "markdown",
      "metadata": {
        "id": "1I6p11VgVhXE",
        "colab_type": "text"
      },
      "source": [
        "**Problem statement**: Given a uniformly distributed random numbers between 0 and 1, how can you best estimate the _pi number_?\n",
        "\n",
        "**Desing solution**: the idea is to locate the points into x,y graph. These points are randomly generated using _rand()_ function calling twice, x-values and y v-values. Translate it into geometry and basic algebra problem, the hint here is that this graph (square) is a quarter part of a big square and eventually it can be drawn a circunference (circle). \n",
        "\n",
        "![alt text](https://betterexplained.com/wp-content/uploads/calculus/pi_square.png)<br>See here for better explanation: https://betterexplained.com/articles/prehistoric-calculus-discovering-pi/\n",
        "\n",
        "As you see, the goal is to count all points in the circle and all point in the square. The ratio between these two numbers will likely be equal to the ratio between area of the circle and area of the square:\n",
        "\n",
        "\n",
        "*   Num points inside circle (*ni*) / Num total points (*nt*)\n",
        "*   Area of circle / Area of square\n",
        "\n",
        "In order to distuingh whether a point is inner or outer the circle, we should calculate the _Distance_ between point (x,y) and its origin:\n",
        "\n",
        "\n",
        "*   _Distance_ = $\\sqrt{x^2 + y^2}$\n",
        "\n",
        "Then, the rule is if _Distance_ is smaller than 1 then is inner point, otherwise outer.\n",
        "\n",
        "The final formula to calculate is:\n",
        "\n",
        "\n",
        "\n",
        "*   $\\pi $r^2/a^2 = ni/nt\n",
        "\n",
        "Given r = 1, we need to isolate $\\pi $ in order to resolve the problem. The result should turn out  $\\pi $ is 4 times the ratio *ni*/*nt*.\n",
        "\n",
        "\n",
        "\n",
        "\n",
        "\n",
        "\n",
        "\n"
      ]
    },
    {
      "cell_type": "code",
      "metadata": {
        "id": "yoBJmixfj4_9",
        "colab_type": "code",
        "colab": {}
      },
      "source": [
        "# Estimate the pi number, given random sample (0,1)\n",
        "\n",
        "# import libraries\n",
        "import numpy as np\n",
        "import matplotlib as pltplot"
      ],
      "execution_count": 0,
      "outputs": []
    },
    {
      "cell_type": "code",
      "metadata": {
        "id": "8IM8XqfOjjxc",
        "colab_type": "code",
        "colab": {}
      },
      "source": [
        "# function estimate pi\n",
        "def estimate_pi(n): # n as number of point\n",
        "    ni = 0 # initialize points in the circle\n",
        "    nt = 0 # initialize points in total\n",
        "    for points in range(n): # loop of ending times\n",
        "        x = np.random.uniform(0,1) # provide x values\n",
        "        y = np.random.uniform(0,1) # provide y values\n",
        "        distance = x**2+y**2\n",
        "        if distance <= 1:\n",
        "          ni +=1 # if smaller then add in inside circle point\n",
        "        nt +=1\n",
        "    return 4 * ni/nt"
      ],
      "execution_count": 0,
      "outputs": []
    },
    {
      "cell_type": "code",
      "metadata": {
        "id": "onAvGilGm0ao",
        "colab_type": "code",
        "colab": {
          "base_uri": "https://localhost:8080/",
          "height": 34
        },
        "outputId": "fcd87c77-593b-43cb-df05-d6ad7bfd0829"
      },
      "source": [
        "estimate_pi(10000)"
      ],
      "execution_count": 4,
      "outputs": [
        {
          "output_type": "execute_result",
          "data": {
            "text/plain": [
              "3.1508"
            ]
          },
          "metadata": {
            "tags": []
          },
          "execution_count": 4
        }
      ]
    }
  ]
}